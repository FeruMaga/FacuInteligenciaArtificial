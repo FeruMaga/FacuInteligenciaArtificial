{
  "cells": [
    {
      "cell_type": "markdown",
      "metadata": {
        "colab_type": "text",
        "id": "view-in-github"
      },
      "source": [
        "<a href=\"https://colab.research.google.com/github/aannddrree/disciplinaIA/blob/main/ALgoritmoBuscaGrafos.ipynb\" target=\"_parent\"><img src=\"https://colab.research.google.com/assets/colab-badge.svg\" alt=\"Open In Colab\"/></a>"
      ]
    },
    {
      "cell_type": "markdown",
      "metadata": {
        "id": "U9XFERJmKggk"
      },
      "source": [
        "# **Gerar Grafo**"
      ]
    },
    {
      "cell_type": "code",
      "execution_count": null,
      "metadata": {
        "id": "KSxisKUJGqoV"
      },
      "outputs": [],
      "source": [
        "import networkx as nx\n",
        "import matplotlib.pyplot as plt"
      ]
    },
    {
      "cell_type": "markdown",
      "metadata": {
        "id": "1lb4CCNsNCY2"
      },
      "source": [
        "Função para criar um grafo de exemplo"
      ]
    },
    {
      "cell_type": "code",
      "execution_count": null,
      "metadata": {
        "id": "7nAAV27HMyYD"
      },
      "outputs": [],
      "source": [
        "def criar_grafo_exemplo():\n",
        "    G = nx.Graph()\n",
        "\n",
        "    # Adiciona nós\n",
        "    G.add_nodes_from([\"A\", \"B\", \"C\", \"D\", \"E\"])\n",
        "\n",
        "    # Adiciona arestas\n",
        "    G.add_edges_from([(\"A\", \"B\"), (\"B\", \"D\"), (\"B\", \"E\"), (\"E\", \"H\"), (\"A\", \"C\"), (\"C\", \"F\"), (\"C\", \"G\")])\n",
        "\n",
        "    return G"
      ]
    },
    {
      "cell_type": "markdown",
      "metadata": {
        "id": "GPX09VWjNFex"
      },
      "source": [
        "Função para desenhar o grafo"
      ]
    },
    {
      "cell_type": "code",
      "execution_count": null,
      "metadata": {
        "id": "-Yxd6vtWM5xP"
      },
      "outputs": [],
      "source": [
        "def desenhar_grafo(grafo):\n",
        "    pos = nx.spring_layout(grafo)  # Define a posição dos nós\n",
        "    nx.draw(grafo, pos, with_labels=True, font_weight='bold', node_size=700, node_color='skyblue', font_size=10)\n",
        "    plt.show()"
      ]
    },
    {
      "cell_type": "markdown",
      "metadata": {
        "id": "-UMeyoGGNJGM"
      },
      "source": [
        "Criar um grafo de exemplo"
      ]
    },
    {
      "cell_type": "code",
      "execution_count": null,
      "metadata": {
        "id": "zrOd8qWPM7y-"
      },
      "outputs": [],
      "source": [
        "grafo_exemplo = criar_grafo_exemplo()"
      ]
    },
    {
      "cell_type": "markdown",
      "metadata": {
        "id": "KfnuLdg5NMeg"
      },
      "source": [
        "Desenhar o grafo"
      ]
    },
    {
      "cell_type": "code",
      "execution_count": null,
      "metadata": {
        "colab": {
          "base_uri": "https://localhost:8080/",
          "height": 516
        },
        "id": "zQwcwrrIM9d6",
        "outputId": "8d419f79-b369-471a-b113-8352f905f8c3"
      },
      "outputs": [],
      "source": [
        "desenhar_grafo(grafo_exemplo)"
      ]
    },
    {
      "cell_type": "markdown",
      "metadata": {
        "id": "mAsAgTe-NcU9"
      },
      "source": [
        "# **Algoritmo de Busca - \"Busca Cega\"**"
      ]
    },
    {
      "cell_type": "code",
      "execution_count": null,
      "metadata": {
        "id": "nXKUxTURJ3kV"
      },
      "outputs": [],
      "source": [
        "from collections import deque"
      ]
    },
    {
      "cell_type": "markdown",
      "metadata": {
        "id": "89sHJvigKdbL"
      },
      "source": [
        "Função para detectar o menor caminho à ser percorrido:"
      ]
    },
    {
      "cell_type": "code",
      "execution_count": null,
      "metadata": {
        "id": "Yxv78LJJF2es"
      },
      "outputs": [],
      "source": [
        "def busca_largura(grafo, inicio, objetivo):\n",
        "    fila = deque([(inicio, [inicio])])\n",
        "    print(str(fila))\n",
        "\n",
        "    while fila:\n",
        "        (vertice, caminho) = fila.popleft()\n",
        "        print(\"vertice: \" + str(vertice))\n",
        "        print(\"caminho: \" + str(caminho))\n",
        "        for vizinho in grafo[vertice]:\n",
        "            print(\"vizinho: \" + str(vizinho))\n",
        "            if vizinho not in caminho:\n",
        "                if vizinho == objetivo:\n",
        "                    return caminho + [vizinho]\n",
        "                else:\n",
        "                    fila.append((vizinho, caminho + [vizinho]))\n",
        "\n",
        "\n",
        "\n"
      ]
    },
    {
      "cell_type": "code",
      "execution_count": null,
      "metadata": {
        "colab": {
          "base_uri": "https://localhost:8080/"
        },
        "id": "exVI9yFcLOJ8",
        "outputId": "6405d0b1-e499-4f22-f6f3-eed1fc80ef80"
      },
      "outputs": [],
      "source": [
        "fila = deque([('A', ['A'])])\n",
        "print(str(fila))\n",
        "(vertice, caminho) = fila.popleft()\n",
        "print(str((vertice, caminho)))\n",
        "\n",
        "\n"
      ]
    },
    {
      "cell_type": "markdown",
      "metadata": {
        "id": "MFWDRv7DKSMt"
      },
      "source": [
        "GRAFO Exemplo:"
      ]
    },
    {
      "cell_type": "code",
      "execution_count": null,
      "metadata": {
        "id": "YJT42U4JJ_6h"
      },
      "outputs": [],
      "source": [
        "grafo_exemplo = {\n",
        "    'A': ['B', 'C'],\n",
        "    'B': ['A', 'D', 'E'],\n",
        "    'C': ['A', 'F', 'G'],\n",
        "    'D': ['B'],\n",
        "    'E': ['B', 'H'],\n",
        "    'F': ['C'],\n",
        "    'G': ['C'],\n",
        "    'H': ['E']\n",
        "}"
      ]
    },
    {
      "cell_type": "markdown",
      "metadata": {
        "id": "d-hJ5lObKHv8"
      },
      "source": [
        "Chamar a função para poder encontrar o menor caminho para poder chegar até o objetivo esperado."
      ]
    },
    {
      "cell_type": "code",
      "execution_count": null,
      "metadata": {
        "colab": {
          "base_uri": "https://localhost:8080/"
        },
        "id": "i2kZMZkPKCtc",
        "outputId": "34aedd76-3201-4142-c3bd-a76b4f67021b"
      },
      "outputs": [],
      "source": [
        "resultado = busca_largura(grafo_exemplo, 'A', 'H')\n",
        "print(\"Caminho mais curto:\", resultado)"
      ]
    }
  ],
  "metadata": {
    "colab": {
      "authorship_tag": "ABX9TyPNsXdi7OppbDl0FzrBCWnf",
      "collapsed_sections": [
        "mAsAgTe-NcU9"
      ],
      "include_colab_link": true,
      "provenance": []
    },
    "kernelspec": {
      "display_name": "Python 3",
      "name": "python3"
    },
    "language_info": {
      "name": "python"
    }
  },
  "nbformat": 4,
  "nbformat_minor": 0
}
