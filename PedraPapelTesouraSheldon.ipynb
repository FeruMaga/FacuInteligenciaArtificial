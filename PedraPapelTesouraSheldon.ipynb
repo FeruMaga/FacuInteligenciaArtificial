{
  "nbformat": 4,
  "nbformat_minor": 0,
  "metadata": {
    "colab": {
      "provenance": [],
      "authorship_tag": "ABX9TyPu0VZCdzFT99af5Y/am5BG",
      "include_colab_link": true
    },
    "kernelspec": {
      "name": "python3",
      "display_name": "Python 3"
    },
    "language_info": {
      "name": "python"
    }
  },
  "cells": [
    {
      "cell_type": "markdown",
      "metadata": {
        "id": "view-in-github",
        "colab_type": "text"
      },
      "source": [
        "<a href=\"https://colab.research.google.com/github/FeruMaga/FacuInteligenciaArtificial/blob/main/PedraPapelTesouraSheldon.ipynb\" target=\"_parent\"><img src=\"https://colab.research.google.com/assets/colab-badge.svg\" alt=\"Open In Colab\"/></a>"
      ]
    },
    {
      "cell_type": "code",
      "source": [
        "escolhas = ['pedra', 'papel', 'tesoura', 'spock', 'lagarto']"
      ],
      "metadata": {
        "id": "zCiAQcSHwlF0"
      },
      "execution_count": 1,
      "outputs": []
    },
    {
      "cell_type": "code",
      "execution_count": 11,
      "metadata": {
        "id": "eibEUjlUwdfW"
      },
      "outputs": [],
      "source": [
        "import random\n",
        "\n",
        "def jogo_pedra_papel_tesoura(escolha_usuario):\n",
        "  escolha_computador = random.choice(escolhas)\n",
        "\n",
        "  print('\\nVocê escolheu: ', escolha_usuario)\n",
        "  print('O computador escolheu: ', escolha_computador)\n",
        "\n",
        "  if escolha_usuario == escolha_computador:\n",
        "    return \"Empate!\"\n",
        "\n",
        "  match (escolha_usuario, escolha_computador):\n",
        "        case (\"tesoura\", \"papel\"):\n",
        "            return \"Você venceu! Tesoura corta papel.\"\n",
        "        case (\"tesoura\", \"lagarto\"):\n",
        "            return \"Você venceu! Tesoura decapita lagarto.\"\n",
        "        case (\"papel\", \"pedra\"):\n",
        "            return \"Você venceu! Papel cobre pedra.\"\n",
        "        case (\"papel\", \"spock\"):\n",
        "            return \"Você venceu! Papel refuta spock.\"\n",
        "        case (\"pedra\", \"tesoura\"):\n",
        "            return \"Você venceu! Pedra quebra tesoura.\"\n",
        "        case (\"pedra\", \"lagarto\"):\n",
        "            return \"Você venceu! Pedra esmaga lagarto.\"\n",
        "        case (\"lagarto\", \"papel\"):\n",
        "            return \"Você venceu! Lagarto come papel.\"\n",
        "        case (\"lagarto\", \"spock\"):\n",
        "            return \"Você venceu! Lagarto envenena spock.\"\n",
        "        case (\"spock\", \"tesoura\"):\n",
        "            return \"Você venceu! Spock esmaga tesoura.\"\n",
        "        case (\"spock\", \"pedra\"):\n",
        "            return \"Você venceu! Spock vaporiza pedra.\"\n",
        "        case (\"papel\", \"tesoura\"):\n",
        "            return \"Você perdeu! Tesoura corta papel.\"\n",
        "        case (\"lagarto\", \"tesoura\"):\n",
        "            return \"Você perdeu! Tesoura decapita lagarto.\"\n",
        "        case (\"pedra\", \"papel\"):\n",
        "            return \"Você perdeu! Papel cobre pedra.\"\n",
        "        case (\"spock\", \"papel\"):\n",
        "            return \"Você perdeu! Papel refuta spock.\"\n",
        "        case (\"tesoura\", \"pedra\"):\n",
        "            return \"Você perdeu! Pedra quebra tesoura.\"\n",
        "        case (\"lagarto\", \"pedra\"):\n",
        "            return \"Você perdeu! Pedra esmaga lagarto.\"\n",
        "        case (\"papel\", \"lagarto\"):\n",
        "            return \"Você perdeu! Lagarto come papel.\"\n",
        "        case (\"spock\", \"lagarto\"):\n",
        "            return \"Você perdeu! Lagarto envenena spock.\"\n",
        "        case (\"tesoura\", \"spock\"):\n",
        "            return \"Você perdeu! Spock esmaga tesoura.\"\n",
        "        case (\"pedra\", \"spock\"):\n",
        "            return \"Você perdeu! Spock vaporiza pedra.\"\n",
        "\n",
        "\n",
        "        case _:\n",
        "            return \"Erro: Escolha inválida.\"\n"
      ]
    },
    {
      "cell_type": "code",
      "source": [
        "print('Início do jogo')\n",
        "\n",
        "while True:\n",
        "  escolha_usuario = input(\"Escolha pedra, papel, tesoura, spock ou lagarto digite 'sair': \")\n",
        "  if escolha_usuario.lower() == 'sair':\n",
        "    print('Saindo do jogo...')\n",
        "    break\n",
        "  elif escolha_usuario.lower() not in escolhas:\n",
        "    print('Escolha inválida. Por favor, escolha pedra, papel, tesoura, spock e lagarto.')\n",
        "  else:\n",
        "    resultado = jogo_pedra_papel_tesoura(escolha_usuario)\n",
        "    print(resultado)\n"
      ],
      "metadata": {
        "id": "_lV7ULy9wjLc"
      },
      "execution_count": null,
      "outputs": []
    }
  ]
}