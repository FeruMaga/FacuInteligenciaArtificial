{
  "cells": [
    {
      "cell_type": "markdown",
      "metadata": {
        "id": "view-in-github",
        "colab_type": "text"
      },
      "source": [
        "<a href=\"https://colab.research.google.com/github/FeruMaga/FacuInteligenciaArtificial/blob/main/PedraPapelTesoura.ipynb\" target=\"_parent\"><img src=\"https://colab.research.google.com/assets/colab-badge.svg\" alt=\"Open In Colab\"/></a>"
      ]
    },
    {
      "cell_type": "code",
      "execution_count": null,
      "metadata": {
        "id": "YuvOkslFhB3j"
      },
      "outputs": [],
      "source": [
        "import random\n",
        "\n",
        "def jogo_pedra_papel_tesoura(escolha_usuario):\n",
        "  escolhas_possiveis = ['pedra', 'papel', 'tesoura']\n",
        "  escolha_computador = random.choice(escolhas_possiveis)\n",
        "\n",
        "  print('\\nVocê escolheu: ', escolha_usuario)\n",
        "  print('O computador escolheu: ', escolha_computador)\n",
        "\n",
        "  if escolha_usuario == escolha_computador:\n",
        "    return \"Empate!\"\n",
        "\n",
        "  if (escolha_usuario == 'pedra' and escolha_computador == 'tesoura') or \\\n",
        "     (escolha_usuario == 'papel' and escolha_computador == 'pedra') or \\\n",
        "     (escolha_usuario == 'tesoura' and escolha_computador == 'papel'):\n",
        "    return \"Você ganhou!\"\n",
        "  else:\n",
        "    return \"Você perdeu!\""
      ]
    },
    {
      "cell_type": "code",
      "execution_count": null,
      "metadata": {
        "colab": {
          "background_save": true,
          "base_uri": "https://localhost:8080/"
        },
        "id": "v1UGb87HeZuB",
        "outputId": "9fae6a8e-127f-498d-d858-b38fd72b3722"
      },
      "outputs": [
        {
          "name": "stdout",
          "output_type": "stream",
          "text": [
            "Início do jogo\n",
            "\n",
            "Você escolheu:  pedra\n",
            "O computador escolheu:  pedra\n",
            "Empate!\n",
            "\n",
            "Você escolheu:  papel\n",
            "O computador escolheu:  papel\n",
            "Empate!\n",
            "\n",
            "Você escolheu:  tesoura\n",
            "O computador escolheu:  pedra\n",
            "Você perdeu!\n",
            "\n",
            "Você escolheu:  papel\n",
            "O computador escolheu:  tesoura\n",
            "Você perdeu!\n",
            "\n",
            "Você escolheu:  tesoura\n",
            "O computador escolheu:  tesoura\n",
            "Empate!\n"
          ]
        }
      ],
      "source": [
        "print('Início do jogo')\n",
        "\n",
        "while True:\n",
        "  escolha_usuario = input(\"Escolha pedra, papel, tesoura ou digite 'sair': \")\n",
        "  if escolha_usuario.lower() == 'sair':\n",
        "    print('Saindo do jogo...')\n",
        "    break\n",
        "  elif escolha_usuario.lower() not in ['pedra', 'papel', 'tesoura']:\n",
        "    print('Escolha inválida. Por favor, escolha pedra, papel e tesoura.')\n",
        "  else:\n",
        "    resultado = jogo_pedra_papel_tesoura(escolha_usuario)\n",
        "    print(resultado)\n"
      ]
    }
  ],
  "metadata": {
    "colab": {
      "provenance": [],
      "authorship_tag": "ABX9TyP4Cs4CJhcbX0mhRDanNIAg",
      "include_colab_link": true
    },
    "kernelspec": {
      "display_name": "Python 3",
      "name": "python3"
    },
    "language_info": {
      "name": "python"
    }
  },
  "nbformat": 4,
  "nbformat_minor": 0
}